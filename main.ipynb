{
 "cells": [
  {
   "cell_type": "code",
   "execution_count": null,
   "metadata": {
    "scrolled": true
   },
   "outputs": [],
   "source": [
    "import sys\n",
    "!{sys.executable} -m pip install -q -U pip\n",
    "!{sys.executable} -m pip install -q -U -r requirements.txt\n",
    "!{sys.executable} -m pip install -q -U -r ./EPFD/requirements.txt\n",
    "!{sys.executable} -m pip install -q -e ./EPFD/PyEnsemble"
   ]
  },
  {
   "cell_type": "code",
   "execution_count": null,
   "metadata": {},
   "outputs": [],
   "source": [
    "%load_ext autoreload\n",
    "%autoreload 2"
   ]
  },
  {
   "cell_type": "code",
   "execution_count": null,
   "metadata": {},
   "outputs": [],
   "source": [
    "import wandb\n",
    "wandb.login()\n",
    "\n",
    "project = \"htcv\"\n",
    "run = wandb.init(project=project, entity=\"nicojahn\")\n",
    "config = wandb.config"
   ]
  },
  {
   "cell_type": "markdown",
   "metadata": {},
   "source": [
    "# Download the data again and use it as artifact"
   ]
  },
  {
   "cell_type": "code",
   "execution_count": null,
   "metadata": {},
   "outputs": [],
   "source": [
    "import time\n",
    "attempt = 60*5\n",
    "\n",
    "label_artifact = None\n",
    "while attempt:\n",
    "    try:\n",
    "        time.sleep(1)\n",
    "        if label_artifact is None:\n",
    "            label_artifact = run.use_artifact(\"nicojahn/\" + project + \"/validation_labels:latest\", type=\"dataset\")\n",
    "        label_artifact_dir = label_artifact._default_root()\n",
    "        \n",
    "        import os\n",
    "        if not os.path.exists(label_artifact_dir):\n",
    "            label_artifact_dir = label_artifact.download()\n",
    "            break\n",
    "        else:\n",
    "            continue_while = False\n",
    "            for file in label_artifact._list():\n",
    "                if not os.path.exists(label_artifact_dir + \"/\" + file):\n",
    "                    continue_while = True\n",
    "                    break\n",
    "            if continue_while:\n",
    "                attempt -= 1\n",
    "                continue\n",
    "            else:\n",
    "                break\n",
    "    except (ValueError, wandb.CommError) as e:\n",
    "        attempt -= 1\n",
    "assert attempt > 0"
   ]
  },
  {
   "cell_type": "code",
   "execution_count": null,
   "metadata": {},
   "outputs": [],
   "source": [
    "import time\n",
    "attempt = 60*5\n",
    "\n",
    "data_artifact = None\n",
    "while attempt:\n",
    "    try:\n",
    "        time.sleep(1)\n",
    "        if data_artifact is None:\n",
    "            data_artifact = run.use_artifact(\"nicojahn/\" + project + \"/validation_predictions:latest\", type=\"dataset\")\n",
    "        data_artifact_dir = data_artifact._default_root()\n",
    "        \n",
    "        import os\n",
    "        if not os.path.exists(data_artifact_dir):\n",
    "            data_artifact_dir = data_artifact.download()\n",
    "            break\n",
    "        else:\n",
    "            continue_while = False\n",
    "            for file in data_artifact._list():\n",
    "                if not os.path.exists(data_artifact_dir + \"/\" + file):\n",
    "                    continue_while = True\n",
    "                    break\n",
    "            if continue_while:\n",
    "                attempt -= 1\n",
    "                continue\n",
    "            else:\n",
    "                break\n",
    "    except (ValueError, wandb.CommError) as e:\n",
    "        attempt -= 1\n",
    "assert attempt > 0"
   ]
  },
  {
   "cell_type": "markdown",
   "metadata": {},
   "source": [
    "# Read the data and optimize on it"
   ]
  },
  {
   "cell_type": "code",
   "execution_count": null,
   "metadata": {},
   "outputs": [],
   "source": [
    "from pathlib import Path\n",
    "import pickle\n",
    "import numpy as np\n",
    "\n",
    "validation_labels = [str(p) for p in Path(label_artifact_dir).glob(\"*\")]\n",
    "assert len(validation_labels) == 1\n",
    "validation_labels = validation_labels[0]\n",
    "with open(validation_labels, \"rb\") as file:\n",
    "    validation_labels = pickle.load(file)\n",
    "\n",
    "# select only subset of the data\n",
    "data_set_size = config[\"data_set_size\"]\n",
    "indices = np.random.choice(validation_labels.shape[0], data_set_size, replace=False)\n",
    "validation_labels = validation_labels[indices]\n",
    "\n",
    "validation_predictions = [str(p) for p in Path(data_artifact_dir).glob(\"*\")]\n",
    "assert len(validation_predictions) == 1\n",
    "validation_predictions = validation_predictions[0]\n",
    "\n",
    "validation_prediction = []\n",
    "with open(validation_predictions, \"rb\") as file:\n",
    "    data = pickle.load(file)\n",
    "    for k,v in data.items():\n",
    "        validation_prediction += [v[indices]]"
   ]
  },
  {
   "cell_type": "code",
   "execution_count": null,
   "metadata": {
    "scrolled": true
   },
   "outputs": [],
   "source": [
    "sys.path.insert(0, \"EPFD\")\n",
    "from main import *"
   ]
  },
  {
   "cell_type": "code",
   "execution_count": null,
   "metadata": {},
   "outputs": [],
   "source": [
    "from scipy.stats import mode\n",
    "\n",
    "def accuracy(l,p):\n",
    "    return np.sum(np.equal(l,p))/l.shape\n",
    "\n",
    "def get_prediction(v):\n",
    "    \"\"\"\n",
    "    x, y = np.unique(v, return_counts=True)\n",
    "    classes = x[np.argmax(y)]\n",
    "    return classes\n",
    "    \"\"\"\n",
    "    return mode(v, axis=1)[0].reshape(-1)\n",
    "\n",
    "def evaluate(solution_set, data, labels):\n",
    "    solutions = []\n",
    "    for model in solution_set:\n",
    "        solutions += [data[model]]\n",
    "    prediction = get_prediction(np.asarray(v))\n",
    "    return accuracy(labels, prediction), prediction"
   ]
  },
  {
   "cell_type": "code",
   "execution_count": null,
   "metadata": {
    "scrolled": false
   },
   "outputs": [],
   "source": [
    "from argparse import Namespace\n",
    "\n",
    "lam = config[\"lambda\"]\n",
    "nb_pru = config[\"nb_pru\"]\n",
    "name_pru = config[\"name_pru\"]\n",
    "distributed = config[\"distributed\"]\n",
    "m = config[\"m\"]\n",
    "timeout = config[\"timeout\"]\n",
    "\n",
    "setting = {\"nb_pru\" : nb_pru, \"name_pru\": name_pru, \"distributed\": distributed, \"lam\": lam, \"m\":m}\n",
    "args = Namespace(**setting)\n",
    "\n",
    "# Process timing/stopping copied from: https://stackoverflow.com/a/14924210\n",
    "import multiprocessing\n",
    "p = multiprocessing.Process(target=main, args=(args, validation_labels, validation_prediction))\n",
    "p.start()\n",
    "# Wait for n seconds or until process finishes\n",
    "p.join(timeout)\n",
    "\n",
    "solution_set = []\n",
    "if p.is_alive():\n",
    "    print(\"Process is still running. Killing it.\")\n",
    "\n",
    "    # Terminate - may not work if process is stuck for good\n",
    "    p.terminate()\n",
    "    # OR Kill - will work for sure, no chance for process to finish nicely however\n",
    "    # p.kill()\n",
    "\n",
    "else:\n",
    "    indices = p.get()\n",
    "    solution_set = np.asarray(list(data.keys()))[indices]\n",
    "    print(setting)\n",
    "    print(solution_set)\n",
    "    acc, prediction = evaluate(solution_set, data, validation_labels)\n",
    "    print(acc)\n",
    "    wandb.log({\"accuracy\": acc})\n",
    "p.join()"
   ]
  },
  {
   "cell_type": "markdown",
   "metadata": {},
   "source": [
    "# Collect the images(predictions) of those models and store them in another artifact"
   ]
  },
  {
   "cell_type": "code",
   "execution_count": null,
   "metadata": {},
   "outputs": [],
   "source": [
    "for file in solution_set:\n",
    "    label_artifact = run.use_artifact(\"nicojahn/\" + project + \"/predictions:latest\", type=\"raw_dataset\")\n",
    "    path = label_artifact.get_path(file)\n",
    "    downloaded_prediction = path.download(\"/tmp/%s/\" % run.name)"
   ]
  },
  {
   "cell_type": "code",
   "execution_count": null,
   "metadata": {},
   "outputs": [],
   "source": [
    "if len(solution_set):\n",
    "    final_artifact = wandb.Artifact(\"final_prediction\", type=\"predictions\")\n",
    "    final_artifact.add_dir(\"/tmp/%s/\" % run.name)\n",
    "    run.log_artifact(final_artifact, aliases=run.name)\n",
    "    final_artifact.wait()"
   ]
  },
  {
   "cell_type": "code",
   "execution_count": null,
   "metadata": {},
   "outputs": [],
   "source": [
    "run.finish()"
   ]
  }
 ],
 "metadata": {
  "kernelspec": {
   "display_name": "Python 3",
   "language": "python",
   "name": "python3"
  },
  "language_info": {
   "codemirror_mode": {
    "name": "ipython",
    "version": 3
   },
   "file_extension": ".py",
   "mimetype": "text/x-python",
   "name": "python",
   "nbconvert_exporter": "python",
   "pygments_lexer": "ipython3",
   "version": "3.8.5"
  }
 },
 "nbformat": 4,
 "nbformat_minor": 5
}
