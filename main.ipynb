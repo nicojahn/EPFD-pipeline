{
 "cells": [
  {
   "cell_type": "code",
   "execution_count": null,
   "metadata": {},
   "outputs": [],
   "source": [
    "import wandb\n",
    "wandb.login()\n",
    "\n",
    "project = \"htcv\"\n",
    "run = wandb.init(project=project, entity=\"nicojahn\")\n",
    "config = wandb.config"
   ]
  },
  {
   "cell_type": "markdown",
   "metadata": {},
   "source": [
    "# Download the data again and use it as artifact"
   ]
  },
  {
   "cell_type": "code",
   "execution_count": null,
   "metadata": {},
   "outputs": [],
   "source": [
    "import time\n",
    "attempt = 60*5\n",
    "\n",
    "label_artifact = None\n",
    "while attempt:\n",
    "    try:\n",
    "        time.sleep(1)\n",
    "        if label_artifact is None:\n",
    "            label_artifact = run.use_artifact(\"nicojahn/\" + project + \"/validation_labels:latest\", type=\"dataset\")\n",
    "        label_artifact_dir = label_artifact._default_root()\n",
    "        \n",
    "        import os\n",
    "        if not os.path.exists(label_artifact_dir):\n",
    "            label_artifact_dir = label_artifact.download()\n",
    "            break\n",
    "        else:\n",
    "            continue_while = False\n",
    "            for file in label_artifact._list():\n",
    "                if not os.path.exists(label_artifact_dir + \"/\" + file):\n",
    "                    continue_while = True\n",
    "                    break\n",
    "            if continue_while:\n",
    "                attempt -= 1\n",
    "                continue\n",
    "            else:\n",
    "                break\n",
    "    except (ValueError, wandb.CommError) as e:\n",
    "        attempt -= 1\n",
    "assert attempt > 0"
   ]
  },
  {
   "cell_type": "code",
   "execution_count": null,
   "metadata": {},
   "outputs": [],
   "source": [
    "import time\n",
    "attempt = 60*5\n",
    "\n",
    "data_artifact = None\n",
    "while attempt:\n",
    "    try:\n",
    "        time.sleep(1)\n",
    "        if data_artifact is None:\n",
    "            data_artifact = run.use_artifact(\"nicojahn/\" + project + \"/validation_predictions:latest\", type=\"dataset\")\n",
    "        data_artifact_dir = data_artifact._default_root()\n",
    "        \n",
    "        import os\n",
    "        if not os.path.exists(data_artifact_dir):\n",
    "            data_artifact_dir = data_artifact.download()\n",
    "            break\n",
    "        else:\n",
    "            continue_while = False\n",
    "            for file in data_artifact._list():\n",
    "                if not os.path.exists(data_artifact_dir + \"/\" + file):\n",
    "                    continue_while = True\n",
    "                    break\n",
    "            if continue_while:\n",
    "                attempt -= 1\n",
    "                continue\n",
    "            else:\n",
    "                break\n",
    "    except (ValueError, wandb.CommError) as e:\n",
    "        attempt -= 1\n",
    "assert attempt > 0"
   ]
  },
  {
   "cell_type": "markdown",
   "metadata": {},
   "source": [
    "# Read the data and optimize on it"
   ]
  },
  {
   "cell_type": "code",
   "execution_count": null,
   "metadata": {},
   "outputs": [],
   "source": [
    "from pathlib import Path\n",
    "import pickle\n",
    "import numpy as np\n",
    "\n",
    "validation_labels = [str(p) for p in Path(label_artifact_dir).glob(\"*\")]\n",
    "assert len(validation_labels) == 1\n",
    "validation_labels = validation_labels[0]\n",
    "with open(validation_labels, \"rb\") as file:\n",
    "    validation_labels = pickle.load(file)\n",
    "\n",
    "# select only subset of the data\n",
    "data_set_size = config[\"data_set_size\"]\n",
    "assert validation_labels.shape[0] >= data_set_size\n",
    "indices = np.random.choice(validation_labels.shape[0], data_set_size, replace=False)\n",
    "validation_labels = validation_labels[indices]\n",
    "\n",
    "validation_predictions = [str(p) for p in Path(data_artifact_dir).glob(\"*\")]\n",
    "assert len(validation_predictions) == 1\n",
    "validation_predictions = validation_predictions[0]\n",
    "\n",
    "import re\n",
    "\n",
    "models_regex = list(config[\"models\"])\n",
    "with open(validation_predictions, \"rb\") as file:\n",
    "    data_replacement = dict()\n",
    "    data = pickle.load(file)\n",
    "    for k,v in data.items():\n",
    "        if len(models_regex) > 0:\n",
    "            for model in models_regex:\n",
    "                matching = re.findall(model, k)\n",
    "                if len(matching) > 0:\n",
    "                    data_replacement[k] = v[indices]\n",
    "        else:\n",
    "            data_replacement[k] = v[indices]\n",
    "\n",
    "    data = data_replacement\n",
    "    validation_prediction = np.asarray(list(data.values()))\n",
    "\n",
    "print(f\"Pruning from {validation_prediction.shape[0]} models\")"
   ]
  },
  {
   "cell_type": "code",
   "execution_count": null,
   "metadata": {
    "scrolled": true
   },
   "outputs": [],
   "source": [
    "import sys\n",
    "sys.path.insert(0, \"EPFD\")\n",
    "from main import *"
   ]
  },
  {
   "cell_type": "code",
   "execution_count": null,
   "metadata": {},
   "outputs": [],
   "source": [
    "from scipy.stats import mode\n",
    "\n",
    "def accuracy(l,p):\n",
    "    return np.sum(np.equal(l,p))/l.shape\n",
    "\n",
    "def get_prediction(v):\n",
    "    \"\"\"\n",
    "    x, y = np.unique(v, return_counts=True)\n",
    "    classes = x[np.argmax(y)]\n",
    "    return classes\n",
    "    \"\"\"\n",
    "    return mode(v, axis=1)[0].reshape(-1)\n",
    "\n",
    "def evaluate(solution_set, data, labels):\n",
    "    solutions = []\n",
    "    for model in solution_set:\n",
    "        solutions += [data[model]]\n",
    "    prediction = get_prediction(np.asarray(solutions).T)\n",
    "    return accuracy(labels, prediction), prediction"
   ]
  },
  {
   "cell_type": "code",
   "execution_count": null,
   "metadata": {
    "scrolled": false
   },
   "outputs": [],
   "source": [
    "from argparse import Namespace\n",
    "import time as t\n",
    "\n",
    "lam = config[\"lambda\"]\n",
    "nb_pru = config[\"nb_pru\"]\n",
    "name_pru = config[\"name_pru\"]\n",
    "distributed = config[\"distributed\"]\n",
    "m = config[\"m\"]\n",
    "timeout = config[\"timeout\"]\n",
    "\n",
    "# You can't prune an ensemble to n models from less than n models  \n",
    "assert validation_prediction.shape[0] > nb_pru\n",
    "\n",
    "setting = {\"nb_pru\" : nb_pru, \"name_pru\": name_pru, \"distributed\": distributed, \"lam\": lam, \"m\":m}\n",
    "args = Namespace(**setting)\n",
    "\n",
    "# Process timing/stopping copied from: https://stackoverflow.com/a/14924210\n",
    "import multiprocessing\n",
    "import queue\n",
    "\n",
    "Q = multiprocessing.Queue()\n",
    "def main_wrapper(*args, **kwargs):\n",
    "    Q.put(main(*args, **kwargs))\n",
    "    \n",
    "p = multiprocessing.Process(target=main_wrapper, args=(args, validation_labels, validation_prediction))\n",
    "start = t.time()\n",
    "p.start()\n",
    "\n",
    "solution_set = []\n",
    "try:\n",
    "    # Wait for n seconds or until process finishes\n",
    "    indices = Q.get(timeout=timeout)\n",
    "\n",
    "    print(setting)\n",
    "    p.join()\n",
    "    solution_set = np.asarray(list(data.keys()))[indices]\n",
    "    print(solution_set)\n",
    "\n",
    "except queue.Empty:\n",
    "    still_alive = p.is_alive()\n",
    "    if still_alive:\n",
    "        print(\"Process is still running. Killing it.\")\n",
    "\n",
    "        # Terminate - may not work if process is stuck for good\n",
    "        #p.terminate()\n",
    "        # OR Kill - will work for sure, no chance for process to finish nicely however\n",
    "        p.kill()\n",
    "\n",
    "wandb.log({\"time\": t.time()-start})"
   ]
  },
  {
   "cell_type": "markdown",
   "metadata": {},
   "source": [
    "# Collect the images(predictions) of those models and store them in another artifact"
   ]
  },
  {
   "cell_type": "code",
   "execution_count": null,
   "metadata": {},
   "outputs": [],
   "source": [
    "table = wandb.Table(columns=[\"model_name\"])\n",
    "for file in solution_set:\n",
    "    label_artifact = run.use_artifact(\"nicojahn/\" + project + \"/predictions:latest\", type=\"raw_dataset\")\n",
    "    path = label_artifact.get_path(file)\n",
    "    downloaded_prediction = path.download(\"/tmp/%s/\" % run.name)\n",
    "    \n",
    "    table.add_data([file])"
   ]
  },
  {
   "cell_type": "code",
   "execution_count": null,
   "metadata": {},
   "outputs": [],
   "source": [
    "from data_utils import *\n",
    "from utils import *\n",
    "color_codes = get_color_codes()\n",
    "class_list = {repr(list(v[\"rgb\"])):k for k,v in color_codes.items()}\n",
    "\n",
    "images = [str(p) for p in Path(\"/tmp/%s/\" % run.name).rglob(\"*png\")]\n",
    "\n",
    "if len(images):\n",
    "    # calculate the accuracy on the pruning data\n",
    "    acc, prediction = evaluate(solution_set, data, validation_labels)\n",
    "    print(acc)\n",
    "    \n",
    "    wandb.log({\"accuracy\": acc, \"model_names\": table})\n",
    "    \n",
    "    predictions = []\n",
    "    for member in images:\n",
    "        color_patch = read_image(member).reshape(-1, 3)\n",
    "        class_patch = np.zeros(color_patch.shape[0], dtype=np.uint8)\n",
    "        for k,v in class_list.items():\n",
    "            class_patch[np.all(color_patch==string_to_numpy(k), axis=1)] = v\n",
    "        predictions += [class_patch]\n",
    "        \n",
    "    predictions = np.asarray(predictions)\n",
    "    predictions = get_prediction(predictions.T)\n",
    "    predictions = predictions.reshape(1202, 4172)\n",
    "    predictions = scale_image_up(predictions)\n",
    "    \n",
    "    from PIL import Image\n",
    "    predictions = Image.fromarray(predictions)\n",
    "    predictions.save(\"/tmp/%s/final_prediction.tif\" % run.name)\n",
    "\n",
    "    final_artifact = wandb.Artifact(\"final_prediction\", type=\"predictions\")\n",
    "    final_artifact.add_file(\"/tmp/%s/final_prediction.tif\" % run.name)\n",
    "    run.log_artifact(final_artifact, aliases=run.name)\n",
    "    final_artifact.wait()"
   ]
  },
  {
   "cell_type": "code",
   "execution_count": null,
   "metadata": {},
   "outputs": [],
   "source": [
    "run.finish()"
   ]
  }
 ],
 "metadata": {
  "kernelspec": {
   "display_name": "Python 3",
   "language": "python",
   "name": "python3"
  },
  "language_info": {
   "codemirror_mode": {
    "name": "ipython",
    "version": 3
   },
   "file_extension": ".py",
   "mimetype": "text/x-python",
   "name": "python",
   "nbconvert_exporter": "python",
   "pygments_lexer": "ipython3",
   "version": "3.8.10"
  }
 },
 "nbformat": 4,
 "nbformat_minor": 5
}
