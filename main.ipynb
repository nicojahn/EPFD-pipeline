{
 "cells": [
  {
   "cell_type": "code",
   "execution_count": null,
   "metadata": {
    "scrolled": true
   },
   "outputs": [],
   "source": [
    "import sys\n",
    "!{sys.executable} -m pip install -q -U pip\n",
    "!{sys.executable} -m pip install -q -U -r requirements.txt\n",
    "!{sys.executable} -m pip install -q -U -r ./EPFD/requirements.txt\n",
    "!{sys.executable} -m pip install -q -e ./EPFD/PyEnsemble"
   ]
  },
  {
   "cell_type": "code",
   "execution_count": null,
   "metadata": {},
   "outputs": [],
   "source": [
    "%load_ext autoreload\n",
    "%autoreload 2"
   ]
  },
  {
   "cell_type": "code",
   "execution_count": null,
   "metadata": {},
   "outputs": [],
   "source": [
    "import wandb\n",
    "wandb.login()\n",
    "\n",
    "run = wandb.init(project=\"htcv\", entity=\"nicojahn\")"
   ]
  },
  {
   "cell_type": "markdown",
   "metadata": {},
   "source": [
    "# Download the data again and use it as artifact"
   ]
  },
  {
   "cell_type": "code",
   "execution_count": null,
   "metadata": {},
   "outputs": [],
   "source": [
    "import time\n",
    "attempt = 60*5\n",
    "\n",
    "label_artifact = None\n",
    "while attempt:\n",
    "    try:\n",
    "        time.sleep(1)\n",
    "        if label_artifact is None:\n",
    "            label_artifact = run.use_artifact(\"nicojahn/htcv/validation_labels:latest\", type=\"dataset\")\n",
    "        label_artifact_dir = label_artifact._default_root()\n",
    "        \n",
    "        import os\n",
    "        if not os.path.exists(label_artifact_dir):\n",
    "            label_artifact_dir = label_artifact.download()\n",
    "            break\n",
    "        else:\n",
    "            continue_while = False\n",
    "            for file in label_artifact._list():\n",
    "                if not os.path.exists(label_artifact_dir + \"/\" + file):\n",
    "                    continue_while = True\n",
    "                    break\n",
    "            if continue_while:\n",
    "                attempt -= 1\n",
    "                continue\n",
    "            else:\n",
    "                break\n",
    "    except (ValueError, wandb.CommError) as e:\n",
    "        attempt -= 1\n",
    "assert attempt > 0"
   ]
  },
  {
   "cell_type": "code",
   "execution_count": null,
   "metadata": {},
   "outputs": [],
   "source": [
    "import time\n",
    "attempt = 60*5\n",
    "\n",
    "data_artifact = None\n",
    "while attempt:\n",
    "    try:\n",
    "        time.sleep(1)\n",
    "        if data_artifact is None:\n",
    "            data_artifact = run.use_artifact(\"nicojahn/htcv/validation_predictions:latest\", type=\"dataset\")\n",
    "        data_artifact_dir = data_artifact._default_root()\n",
    "        \n",
    "        import os\n",
    "        if not os.path.exists(data_artifact_dir):\n",
    "            data_artifact_dir = data_artifact.download()\n",
    "            break\n",
    "        else:\n",
    "            continue_while = False\n",
    "            for file in data_artifact._list():\n",
    "                if not os.path.exists(data_artifact_dir + \"/\" + file):\n",
    "                    continue_while = True\n",
    "                    break\n",
    "            if continue_while:\n",
    "                attempt -= 1\n",
    "                continue\n",
    "            else:\n",
    "                break\n",
    "    except (ValueError, wandb.CommError) as e:\n",
    "        attempt -= 1\n",
    "assert attempt > 0"
   ]
  },
  {
   "cell_type": "markdown",
   "metadata": {},
   "source": [
    "# Read the data and optimize on it"
   ]
  },
  {
   "cell_type": "code",
   "execution_count": null,
   "metadata": {},
   "outputs": [],
   "source": [
    "from pathlib import Path\n",
    "import pickle\n",
    "import numpy as np\n",
    "\n",
    "validation_labels = [str(p) for p in Path(label_artifact_dir).glob(\"*\")]\n",
    "assert len(validation_labels) == 1\n",
    "validation_labels = validation_labels[0]\n",
    "with open(validation_labels, \"rb\") as file:\n",
    "    validation_labels = pickle.load(file)\n",
    "\n",
    "\n",
    "validation_predictions = [str(p) for p in Path(data_artifact_dir).glob(\"*\")]\n",
    "assert len(validation_predictions) == 1\n",
    "validation_predictions = validation_predictions[0]\n",
    "\n",
    "validation_prediction = []\n",
    "with open(validation_predictions, \"rb\") as file:\n",
    "    data = pickle.load(file)\n",
    "    for k,v in data.items():\n",
    "        validation_prediction += [v]"
   ]
  },
  {
   "cell_type": "code",
   "execution_count": null,
   "metadata": {
    "scrolled": true
   },
   "outputs": [],
   "source": [
    "sys.path.insert(0, \"EPFD\")\n",
    "from main import *"
   ]
  },
  {
   "cell_type": "code",
   "execution_count": null,
   "metadata": {},
   "outputs": [],
   "source": [
    "def accuracy(l,p):\n",
    "    return np.sum(np.equal(l,p))/l.shape\n",
    "\n",
    "def evaluate(solution_set, data, labels):\n",
    "    solutions = []\n",
    "    for model in solution_set:\n",
    "        solutions += [data[model]]\n",
    "    solution = np.median(np.asarray(solutions), axis=0)\n",
    "    return accuracy(labels, solution)"
   ]
  },
  {
   "cell_type": "code",
   "execution_count": null,
   "metadata": {
    "scrolled": false
   },
   "outputs": [],
   "source": [
    "from argparse import Namespace\n",
    "config = wandb.config\n",
    "\n",
    "lam = config[\"lambda\"]\n",
    "nb_pru = config[\"nb_pru\"]\n",
    "name_pru = config[\"name_pru\"]\n",
    "distributed = config[\"distributed\"]\n",
    "m = config[\"m\"]\n",
    "\n",
    "setting = {\"nb_pru\" : nb_pru, \"name_pru\": name_pru, \"distributed\": distributed, \"lam\": lam, \"m\":m}\n",
    "args = Namespace(**setting)\n",
    "indices = main(args, validation_labels, validation_prediction)\n",
    "solution_set = np.asarray(list(data.keys()))[indices]\n",
    "print(setting)\n",
    "print(solution_set)\n",
    "acc = evaluate(solution_set, data, validation_labels)\n",
    "print(acc)\n",
    "wandb.log({\"accuracy\": acc})"
   ]
  },
  {
   "cell_type": "markdown",
   "metadata": {},
   "source": [
    "# Collect the images(predictions) of those models and store them in another artifact"
   ]
  },
  {
   "cell_type": "code",
   "execution_count": null,
   "metadata": {},
   "outputs": [],
   "source": [
    "for file in solution_set:\n",
    "    label_artifact = run.use_artifact(\"nicojahn/htcv/predictions:latest\", type=\"raw_dataset\")\n",
    "    path = label_artifact.get_path(file)\n",
    "    downloaded_prediction = path.download(\"/tmp/%s/\" % run.name)"
   ]
  },
  {
   "cell_type": "code",
   "execution_count": null,
   "metadata": {},
   "outputs": [],
   "source": [
    "final_artifact = wandb.Artifact(\"final_predictions\", type=\"predictions\")\n",
    "final_artifact.add_dir(\"/tmp/%s/\" % run.name)\n",
    "run.log_artifact(final_artifact, aliases=run.name)\n",
    "final_artifact.wait()"
   ]
  },
  {
   "cell_type": "code",
   "execution_count": null,
   "metadata": {},
   "outputs": [],
   "source": [
    "run.finish()"
   ]
  }
 ],
 "metadata": {
  "kernelspec": {
   "display_name": "Python 3",
   "language": "python",
   "name": "python3"
  },
  "language_info": {
   "codemirror_mode": {
    "name": "ipython",
    "version": 3
   },
   "file_extension": ".py",
   "mimetype": "text/x-python",
   "name": "python",
   "nbconvert_exporter": "python",
   "pygments_lexer": "ipython3",
   "version": "3.8.5"
  }
 },
 "nbformat": 4,
 "nbformat_minor": 5
}
