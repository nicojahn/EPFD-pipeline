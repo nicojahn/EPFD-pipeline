{
 "cells": [
  {
   "cell_type": "markdown",
   "metadata": {},
   "source": [
    "# Evaluation script\n",
    "* needs to be executed only once\n",
    "* only after all experiments are done\n",
    "* again only works with W&B and needs manual adjustments of the sweep ID's\n",
    "* if there are more than 'fixed_sample_size' experiments, it just takes the 3 latest ones (no quality selection)\n",
    "* using a private endpoint to get model performance on test set (everytime 'get_models' is called with the already selected models)\n",
    "* with 'get_data' the predictions and performance  can be drawn from the training/validation patch"
   ]
  },
  {
   "cell_type": "code",
   "execution_count": 1,
   "metadata": {},
   "outputs": [],
   "source": [
    "import numpy as np\n",
    "import wandb\n",
    "from matplotlib import pyplot as plt\n",
    "\n",
    "from evaluation_utils import *"
   ]
  },
  {
   "cell_type": "code",
   "execution_count": 2,
   "metadata": {
    "scrolled": false
   },
   "outputs": [
    {
     "name": "stderr",
     "output_type": "stream",
     "text": [
      "wandb: Currently logged in as: nicojahn (use `wandb login --relogin` to force relogin)\n",
      "wandb: wandb version 0.10.33 is available!  To upgrade, please run:\n",
      "wandb:  $ pip install wandb --upgrade\n"
     ]
    },
    {
     "data": {
      "text/html": [
       "\n",
       "                Tracking run with wandb version 0.10.32<br/>\n",
       "                Syncing run <strong style=\"color:#cdcd00\">vocal-pond-2643</strong> to <a href=\"https://wandb.ai\" target=\"_blank\">Weights & Biases</a> <a href=\"https://docs.wandb.com/integrations/jupyter.html\" target=\"_blank\">(Documentation)</a>.<br/>\n",
       "                Project page: <a href=\"https://wandb.ai/nicojahn/htcv\" target=\"_blank\">https://wandb.ai/nicojahn/htcv</a><br/>\n",
       "                Run page: <a href=\"https://wandb.ai/nicojahn/htcv/runs/2m2ticgv\" target=\"_blank\">https://wandb.ai/nicojahn/htcv/runs/2m2ticgv</a><br/>\n",
       "                Run data is saved locally in <code>/home/nicojahn/code/wandb/run-20210714_093319-2m2ticgv</code><br/><br/>\n",
       "            "
      ],
      "text/plain": [
       "<IPython.core.display.HTML object>"
      ]
     },
     "metadata": {},
     "output_type": "display_data"
    }
   ],
   "source": [
    "wandb_run = wandb.init(project=\"htcv\", entity=\"nicojahn\")\n",
    "\n",
    "api = wandb.Api()\n",
    "# Project is specified by <entity/project-name>\n",
    "runs = api.runs(\"nicojahn/htcv\")"
   ]
  },
  {
   "cell_type": "code",
   "execution_count": 3,
   "metadata": {},
   "outputs": [],
   "source": [
    "validation_sample_size = 495444\n",
    "classifier_size = 140\n",
    "\n",
    "final_data = {}\n",
    "fixed_lambda = 0.1\n",
    "fixed_nb_pru = 5\n",
    "fixed_models = \"h30\"\n",
    "fixed_sample_size = 3\n",
    "\n",
    "replacement = {\"h30\":60, \"rgb\":70, \"hsi\":70, \"s10000\":80, \"t10\":80}\n",
    "# precentage of pruned members from the subset of classifiers\n",
    "#percentage = lambda x: x/(replacement[fixed_models]/100)\n",
    "# precentage of pruned members from the whole set\n",
    "percentage = lambda x: x/(classifier_size/100)\n",
    "\n",
    "parameter_study_sweeps = [\"e3n4o1qa\", \"94l7tbvl\", \"e2k8xlfk\",]\n",
    "runtime_multiworker_sweeps = [\"u4ivjmwe\",]\n",
    "runtime_dataset_size_sweeps = [\"4z8epoao\",]\n",
    "prune_5_oo_10_sweeps = [\"mspenh20\",]"
   ]
  },
  {
   "cell_type": "markdown",
   "metadata": {},
   "source": [
    "# parameter studies"
   ]
  },
  {
   "cell_type": "code",
   "execution_count": 4,
   "metadata": {
    "scrolled": true
   },
   "outputs": [],
   "source": [
    "# relevant W&B experiments for parameter studies\n",
    "parameter = get_data(parameter_study_sweeps, runs)"
   ]
  },
  {
   "cell_type": "code",
   "execution_count": 5,
   "metadata": {},
   "outputs": [
    {
     "name": "stdout",
     "output_type": "stream",
     "text": [
      "nb_pru &     accuracy &            time \\tn\n",
      "     1 & 32.1 $\\pm$ 12.2 &      0.3 $\\pm$ 0.1 \\tn\n",
      "     3 &  45.9 $\\pm$ 7.2 &   582.4 $\\pm$ 87.1 \\tn\n",
      "     5 &  54.1 $\\pm$ 2.1 & 1851.5 $\\pm$ 293.1 \\tn\n",
      "     7 &  56.4 $\\pm$ 0.7 &  3480.9 $\\pm$ 22.3 \\tn\n"
     ]
    }
   ],
   "source": [
    "parameter_nb_pru = parameter[(parameter[\"models\"]==fixed_models) & (parameter[\"lambda\"]==fixed_lambda)] \\\n",
    "                    .groupby(\"nb_pru\").head(fixed_sample_size)\n",
    "# validation performance\n",
    "print_latex_friendy(parameter_nb_pru.groupby(\"nb_pru\")\n",
    "                    .agg({'accuracy':['mean','std'], 'time':['mean','std'], 'name':'size'}))"
   ]
  },
  {
   "cell_type": "code",
   "execution_count": 6,
   "metadata": {},
   "outputs": [
    {
     "name": "stdout",
     "output_type": "stream",
     "text": [
      "nb_pru &    accuracy &            time \\tn\n",
      "     1 & 25.5 $\\pm$ 7.6 &      0.3 $\\pm$ 0.1 \\tn\n",
      "     3 & 30.3 $\\pm$ 4.5 &   582.4 $\\pm$ 87.1 \\tn\n",
      "     5 & 37.2 $\\pm$ 0.1 & 1851.5 $\\pm$ 293.1 \\tn\n",
      "     7 & 39.0 $\\pm$ 0.2 &  3480.9 $\\pm$ 22.3 \\tn\n"
     ]
    }
   ],
   "source": [
    "# test performance\n",
    "tmp = get_models(parameter_nb_pru, wandb_run).sort_values(\"nb_pru\")\n",
    "print_latex_friendy(tmp.rename(columns={\"test_accuracy\":\"accuracy\"})[[\"nb_pru\",\"accuracy\",\"time\"]]\n",
    "                    .groupby(\"nb_pru\").agg({'accuracy':['mean','std'], 'time':['mean','std']}))"
   ]
  },
  {
   "cell_type": "code",
   "execution_count": 7,
   "metadata": {},
   "outputs": [],
   "source": [
    "final_data[\"result_set_size\"] = get_results_formatted(tmp, \"percentage\", \"remaining\", percentage)"
   ]
  },
  {
   "cell_type": "code",
   "execution_count": 8,
   "metadata": {},
   "outputs": [
    {
     "name": "stdout",
     "output_type": "stream",
     "text": [
      "lambda &    accuracy \\tn\n",
      "   0.0 & 52.1 $\\pm$ 1.3 \\tn\n",
      "   0.1 & 54.1 $\\pm$ 2.1 \\tn\n",
      "   0.3 & 54.1 $\\pm$ 1.7 \\tn\n",
      "   0.5 & 53.2 $\\pm$ 1.0 \\tn\n",
      "   0.7 & 42.6 $\\pm$ 0.4 \\tn\n",
      "   0.9 & 16.3 $\\pm$ 3.5 \\tn\n",
      "   1.0 & 17.1 $\\pm$ 2.0 \\tn\n"
     ]
    }
   ],
   "source": [
    "parameter_lambda = parameter[(parameter[\"models\"]==fixed_models) & (parameter[\"nb_pru\"]==fixed_nb_pru)] \\\n",
    "                    .groupby(\"lambda\").head(fixed_sample_size)\n",
    "# validation performance\n",
    "print_latex_friendy(parameter_lambda[[\"lambda\",\"accuracy\",\"name\"]].groupby(\"lambda\")\n",
    "                    .agg({'accuracy':['mean','std'], 'name':'size'}))"
   ]
  },
  {
   "cell_type": "code",
   "execution_count": 9,
   "metadata": {},
   "outputs": [
    {
     "name": "stdout",
     "output_type": "stream",
     "text": [
      "lambda &    accuracy \\tn\n",
      "   0.0 & 36.5 $\\pm$ 3.4 \\tn\n",
      "   0.1 & 37.2 $\\pm$ 0.1 \\tn\n",
      "   0.3 & 36.7 $\\pm$ 0.4 \\tn\n",
      "   0.5 & 35.0 $\\pm$ 0.3 \\tn\n",
      "   0.7 & 26.9 $\\pm$ 1.7 \\tn\n",
      "   0.9 & 15.2 $\\pm$ 0.2 \\tn\n",
      "   1.0 & 17.0 $\\pm$ 1.5 \\tn\n"
     ]
    }
   ],
   "source": [
    "# test performance\n",
    "tmp = get_models(parameter_lambda, wandb_run).sort_values(\"lambda\")\n",
    "print_latex_friendy(tmp.rename(columns={\"test_accuracy\":\"accuracy\"})[[\"lambda\",\"accuracy\"]]\n",
    "                    .groupby(\"lambda\").agg({'accuracy':['mean','std']}))"
   ]
  },
  {
   "cell_type": "code",
   "execution_count": 10,
   "metadata": {
    "scrolled": true
   },
   "outputs": [
    {
     "name": "stdout",
     "output_type": "stream",
     "text": [
      "models &            time \\tn\n",
      "    60 & 1851.5 $\\pm$ 293.1 \\tn\n",
      "    70 & 2177.3 $\\pm$ 296.3 \\tn\n",
      "    80 &  2345.2 $\\pm$ 47.6 \\tn\n"
     ]
    }
   ],
   "source": [
    "parameter_models = parameter[(parameter[\"lambda\"]==fixed_lambda) & (parameter[\"nb_pru\"]==fixed_nb_pru)] \\\n",
    "                    .replace({\"models\": replacement}).groupby(\"models\").head(fixed_sample_size)\n",
    "# validation performance\n",
    "print_latex_friendy(parameter_models[[\"models\",\"time\",\"name\"]].groupby(\"models\")\n",
    "                    .agg({'time':['mean','std'], 'name':'size'}))"
   ]
  },
  {
   "cell_type": "code",
   "execution_count": 11,
   "metadata": {},
   "outputs": [
    {
     "name": "stdout",
     "output_type": "stream",
     "text": [
      "models &            time \\tn\n",
      "    60 & 1851.5 $\\pm$ 293.1 \\tn\n",
      "    70 & 2177.3 $\\pm$ 296.3 \\tn\n",
      "    80 &  2345.2 $\\pm$ 47.6 \\tn\n"
     ]
    }
   ],
   "source": [
    "# test performance\n",
    "tmp = get_models(parameter_models, wandb_run).sort_values(\"models\")\n",
    "print_latex_friendy(tmp.rename(columns={\"test_accuracy\":\"accuracy\"})[[\"models\",\"time\"]]\n",
    "                    .groupby(\"models\").agg({'time':['mean','std']}))"
   ]
  },
  {
   "cell_type": "markdown",
   "metadata": {},
   "source": [
    "# runtime performance"
   ]
  },
  {
   "cell_type": "code",
   "execution_count": 12,
   "metadata": {},
   "outputs": [],
   "source": [
    "# relevant W&B experiment for runtime performance (number of workers)\n",
    "performance = get_data(runtime_multiworker_sweeps, runs)"
   ]
  },
  {
   "cell_type": "code",
   "execution_count": 13,
   "metadata": {
    "scrolled": true
   },
   "outputs": [
    {
     "name": "stdout",
     "output_type": "stream",
     "text": [
      "m &    accuracy &            time \\tn\n",
      "1 & 52.0 $\\pm$ 1.9 & 1829.1 $\\pm$ 236.3 \\tn\n",
      "2 & 54.7 $\\pm$ 0.9 & 1110.6 $\\pm$ 157.1 \\tn\n",
      "4 & 54.0 $\\pm$ 0.9 & 1125.6 $\\pm$ 129.0 \\tn\n",
      "6 & 54.4 $\\pm$ 0.4 & 1213.5 $\\pm$ 217.7 \\tn\n",
      "8 & 54.3 $\\pm$ 0.7 & 1700.8 $\\pm$ 288.3 \\tn\n"
     ]
    }
   ],
   "source": [
    "performance_m = performance[(performance[\"lambda\"]==fixed_lambda) & (performance[\"nb_pru\"]==fixed_nb_pru) & \\\n",
    "                            (performance[\"models\"]==fixed_models)] \\\n",
    "                    .groupby(\"m\").head(fixed_sample_size)\n",
    "# validation performance\n",
    "print_latex_friendy(performance_m.groupby(\"m\")\n",
    "                    .agg({'accuracy':['mean','std'], 'time':['mean','std'], 'name':'size'}))"
   ]
  },
  {
   "cell_type": "code",
   "execution_count": 14,
   "metadata": {},
   "outputs": [
    {
     "name": "stdout",
     "output_type": "stream",
     "text": [
      "m &            time \\tn\n",
      "1 & 1829.1 $\\pm$ 236.3 \\tn\n",
      "2 & 1110.6 $\\pm$ 157.1 \\tn\n",
      "4 & 1125.6 $\\pm$ 129.0 \\tn\n",
      "6 & 1213.5 $\\pm$ 217.7 \\tn\n",
      "8 & 1700.8 $\\pm$ 288.3 \\tn\n"
     ]
    }
   ],
   "source": [
    "# test performance\n",
    "tmp = get_models(performance_m, wandb_run).sort_values(\"m\")\n",
    "print_latex_friendy(tmp.rename(columns={\"test_accuracy\":\"accuracy\"})[[\"m\",\"time\"]]\n",
    "                    .groupby(\"m\").agg({'time':['mean','std']}))"
   ]
  },
  {
   "cell_type": "code",
   "execution_count": 15,
   "metadata": {
    "scrolled": false
   },
   "outputs": [
    {
     "data": {
      "image/png": "[encoded data removed]",
      "text/plain": [
       "<Figure size 640x480 with 1 Axes>"
      ]
     },
     "metadata": {},
     "output_type": "display_data"
    }
   ],
   "source": [
    "from matplotlib import pyplot as plt\n",
    "performance_m.boxplot(by=\"m\",column=[\"time\"])\n",
    "plt.suptitle(\"Runtime for a different number of workers\")\n",
    "plt.title(\"\")\n",
    "plt.xlabel(\"number of workers\")\n",
    "plt.ylabel(\"time in sec.\")\n",
    "plt.ylim([0,2500])\n",
    "plt.show()"
   ]
  },
  {
   "cell_type": "code",
   "execution_count": 16,
   "metadata": {},
   "outputs": [],
   "source": [
    "# relevant W&B experiment for runtime performance (data set size)\n",
    "dataset = get_data(runtime_dataset_size_sweeps, runs)"
   ]
  },
  {
   "cell_type": "code",
   "execution_count": 17,
   "metadata": {},
   "outputs": [
    {
     "name": "stdout",
     "output_type": "stream",
     "text": [
      "data_set_size &            time \\tn\n",
      "          100 &  1808.1 $\\pm$ 14.1 \\tn\n",
      "         1000 & 1675.7 $\\pm$ 144.3 \\tn\n",
      "        10000 & 1904.6 $\\pm$ 124.7 \\tn\n",
      "        50000 & 2229.9 $\\pm$ 217.1 \\tn\n",
      "       100000 & 2580.4 $\\pm$ 194.2 \\tn\n",
      "       250000 & 4038.6 $\\pm$ 280.6 \\tn\n",
      "       495444 &  5611.1 $\\pm$ 47.8 \\tn\n"
     ]
    }
   ],
   "source": [
    "dataset_size = dataset[(dataset[\"lambda\"]==fixed_lambda) & (dataset[\"nb_pru\"]==fixed_nb_pru) & \\\n",
    "                       (dataset[\"models\"]==fixed_models)] \\\n",
    "            .groupby(\"data_set_size\").head(fixed_sample_size)\n",
    "# validation performance\n",
    "print_latex_friendy(dataset_size.groupby(\"data_set_size\")\n",
    "                    .agg({'time':['mean','std'], 'name':'size'}))"
   ]
  },
  {
   "cell_type": "code",
   "execution_count": 18,
   "metadata": {},
   "outputs": [
    {
     "name": "stdout",
     "output_type": "stream",
     "text": [
      "data_set_size &    accuracy &            time \\tn\n",
      "          100 & 34.1 $\\pm$ 1.2 &  1808.1 $\\pm$ 14.1 \\tn\n",
      "         1000 & 37.9 $\\pm$ 1.9 & 1675.7 $\\pm$ 144.3 \\tn\n",
      "        10000 & 36.0 $\\pm$ 1.0 & 1904.6 $\\pm$ 124.7 \\tn\n",
      "        50000 & 39.6 $\\pm$ 0.3 & 2229.9 $\\pm$ 217.1 \\tn\n",
      "       100000 & 38.4 $\\pm$ 2.2 & 2580.4 $\\pm$ 194.2 \\tn\n",
      "       250000 & 37.9 $\\pm$ 0.8 & 4038.6 $\\pm$ 280.6 \\tn\n",
      "       495444 & 36.3 $\\pm$ 1.2 &  5611.1 $\\pm$ 47.8 \\tn\n"
     ]
    }
   ],
   "source": [
    "# test performance\n",
    "tmp = get_models(dataset_size, wandb_run).sort_values(\"data_set_size\")\n",
    "print_latex_friendy(tmp.rename(columns={\"test_accuracy\":\"accuracy\"})[[\"data_set_size\",\"accuracy\",\"time\"]]\n",
    "                    .groupby(\"data_set_size\").agg({'accuracy':['mean','std'],'time':['mean','std']}))"
   ]
  },
  {
   "cell_type": "code",
   "execution_count": 19,
   "metadata": {},
   "outputs": [],
   "source": [
    "data = tmp.rename(columns={\"test_accuracy\":\"accuracy\"})[[\"data_set_size\",\"accuracy\",\"time\"]] \\\n",
    "                    .groupby(\"data_set_size\").agg({'accuracy':['mean','std'],'time':['mean','std']})"
   ]
  },
  {
   "cell_type": "code",
   "execution_count": 20,
   "metadata": {},
   "outputs": [
    {
     "data": {
      "image/png": "[encoded data removed]",
      "text/plain": [
       "<Figure size 640x480 with 2 Axes>"
      ]
     },
     "metadata": {},
     "output_type": "display_data"
    }
   ],
   "source": [
    "fig, ax1 = plt.subplots() \n",
    "\n",
    "mean, std = data[\"accuracy\"].to_numpy().T*100\n",
    "color = 'tab:red'\n",
    "ax1.errorbar(data.index, mean, std, linestyle='None', marker='^', color=color)\n",
    "ax1.plot(data.index, mean, color=color, label='accuracy')\n",
    "ax1.set_ylim([0,50])\n",
    "ax1.set_ylabel('accuracy in %', color = color) \n",
    "ax1.tick_params(axis ='y', labelcolor = color) \n",
    "\n",
    "# taken from: https://stackoverflow.com/a/26339101\n",
    "handles, labels = plt.gca().get_legend_handles_labels()\n",
    "newLabels, newHandles = [], []\n",
    "for handle, label in zip(handles, labels):\n",
    "    if label not in newLabels:\n",
    "        newLabels.append(label)\n",
    "        newHandles.append(handle)\n",
    "\n",
    "ax2 = ax1.twinx()\n",
    "mean, std = data[\"time\"].to_numpy().T\n",
    "color = 'tab:green'\n",
    "ax2.errorbar(data.index, mean, std, linestyle='None', marker='^', color=color)\n",
    "ax2.plot(data.index, mean, color=color, label='execution time')\n",
    "ax2.plot(data.index, np.ones_like(data.index)*(60*60), '--', color=color, label='1 hour mark')\n",
    "ax2.set_ylim([0,(60*60*2)])\n",
    "ax2.set_ylabel('time in sec.', color = color)\n",
    "ax2.tick_params(axis ='y', labelcolor = color)\n",
    "\n",
    "# taken from: https://stackoverflow.com/a/26339101\n",
    "handles, labels = plt.gca().get_legend_handles_labels()\n",
    "for handle, label in zip(handles, labels):\n",
    "    if label not in newLabels:\n",
    "        newLabels.append(label)\n",
    "        newHandles.append(handle)\n",
    "\n",
    "ax1.set_xlabel('number of samples used (log)')\n",
    "plt.suptitle(\"Relation between number of samples used and prediction quality vs. time\")\n",
    "plt.title(\"\")\n",
    "plt.xscale('log')\n",
    "\n",
    "plt.legend(newHandles, newLabels, loc='lower right')\n",
    "plt.show()"
   ]
  },
  {
   "cell_type": "code",
   "execution_count": 21,
   "metadata": {},
   "outputs": [],
   "source": [
    "final_data[\"pruning_data_size\"] = get_results_formatted(tmp, \"size\", \"data_set_size\", \\\n",
    "                                    lambda x: replace_feature_number(x,validation_sample_size))"
   ]
  },
  {
   "cell_type": "markdown",
   "metadata": {},
   "source": [
    "# 5 out of 10"
   ]
  },
  {
   "cell_type": "code",
   "execution_count": 22,
   "metadata": {},
   "outputs": [],
   "source": [
    "# relevant W&B experiment for pruning 5 out of the 10 best models\n",
    "subset = get_data(prune_5_oo_10_sweeps, runs)"
   ]
  },
  {
   "cell_type": "code",
   "execution_count": 23,
   "metadata": {},
   "outputs": [
    {
     "name": "stdout",
     "output_type": "stream",
     "text": [
      "lambda &    accuracy &         time \\tn\n",
      "   0.1 & 52.4 $\\pm$ 0.2 & 230.6 $\\pm$ 8.4 \\tn\n"
     ]
    }
   ],
   "source": [
    "subset_lambda = subset[(subset[\"lambda\"]==fixed_lambda) & (subset[\"nb_pru\"]==fixed_nb_pru)] \\\n",
    "                    .groupby(\"lambda\").head(fixed_sample_size)\n",
    "# validation performance\n",
    "print_latex_friendy(subset_lambda.groupby(\"lambda\")\n",
    "                    .agg({'accuracy':['mean','std'], 'time':['mean','std']}))"
   ]
  },
  {
   "cell_type": "code",
   "execution_count": 24,
   "metadata": {},
   "outputs": [
    {
     "name": "stdout",
     "output_type": "stream",
     "text": [
      "lambda &    accuracy &         time \\tn\n",
      "   0.1 & 44.3 $\\pm$ 0.6 & 230.6 $\\pm$ 8.4 \\tn\n"
     ]
    }
   ],
   "source": [
    "# test performance\n",
    "tmp = get_models(subset_lambda, wandb_run).sort_values(\"lambda\")\n",
    "print_latex_friendy(tmp.rename(columns={\"test_accuracy\":\"accuracy\"})[[\"lambda\",\"accuracy\",\"time\"]]\n",
    "                    .groupby(\"lambda\").agg({'accuracy':['mean','std'], 'time':['mean','std']}))"
   ]
  },
  {
   "cell_type": "code",
   "execution_count": 25,
   "metadata": {},
   "outputs": [],
   "source": [
    "final_data[\"initial_ensemble_size\"] = get_results_formatted(tmp.agg({\"nb_pru\":forward, \\\n",
    "                                             \"time\":forward, \"test_accuracy\":forward,\n",
    "                                             \"data_set_size\":forward, \"models\":num_elem_from_repr}) \\\n",
    "                                         , \"top\", \"models\")"
   ]
  },
  {
   "cell_type": "markdown",
   "metadata": {},
   "source": [
    "# Output of all experiments\n",
    "* Each model chosen for each experiment (with quality, time and ensemble size)"
   ]
  },
  {
   "cell_type": "code",
   "execution_count": 26,
   "metadata": {},
   "outputs": [],
   "source": [
    "import json\n",
    "with open(\"experiment_output.json\", \"w\") as outfile:\n",
    "    json_object = json.dumps(final_data, indent = 4)\n",
    "    outfile.write(json_object)"
   ]
  }
 ],
 "metadata": {
  "kernelspec": {
   "display_name": "Python 3",
   "language": "python",
   "name": "python3"
  },
  "language_info": {
   "codemirror_mode": {
    "name": "ipython",
    "version": 3
   },
   "file_extension": ".py",
   "mimetype": "text/x-python",
   "name": "python",
   "nbconvert_exporter": "python",
   "pygments_lexer": "ipython3",
   "version": "3.8.10"
  }
 },
 "nbformat": 4,
 "nbformat_minor": 4
}
